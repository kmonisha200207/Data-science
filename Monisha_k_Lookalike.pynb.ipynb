{
 "cells": [
  {
   "cell_type": "code",
   "execution_count": 5,
   "id": "1bc2b01a-0fbe-45d2-84bb-2b6a95e81fdc",
   "metadata": {},
   "outputs": [],
   "source": [
    "import pandas as pd\n",
    "from sklearn.metrics.pairwise import cosine_similarity\n",
    "from sklearn.preprocessing import StandardScaler\n",
    "\n",
    "# Load datasets\n",
    "customers = pd.read_csv(r\"Downloads\\Customers.csv\")\n",
    "transactions = pd.read_csv(r\"Downloads\\Transactions.csv\")\n",
    "\n",
    "# Merge datasets\n",
    "data = pd.merge(transactions, customers, on=\"CustomerID\")\n",
    "\n",
    "# Create customer features\n",
    "customer_features = data.groupby('CustomerID').agg(\n",
    "    total_spent=('TotalValue', 'sum'),\n",
    "    total_transactions=('TransactionID', 'count'),\n",
    "    unique_products=('ProductID', 'nunique')\n",
    ").reset_index()\n",
    "\n",
    "# Normalize features\n",
    "scaler = StandardScaler()\n",
    "scaled_features = scaler.fit_transform(customer_features.iloc[:, 1:])\n",
    "\n",
    "# Compute similarity matrix\n",
    "similarity_matrix = cosine_similarity(scaled_features)\n",
    "\n",
    "# Find top 3 lookalikes\n",
    "lookalikes = {}\n",
    "for idx, customer_id in enumerate(customer_features['CustomerID']):\n",
    "    similarity_scores = list(enumerate(similarity_matrix[idx]))\n",
    "    similarity_scores = sorted(similarity_scores, key=lambda x: -x[1])[1:4]  # Exclude self\n",
    "    lookalikes[customer_id] = [(customer_features['CustomerID'][i], score) for i, score in similarity_scores]\n",
    "\n",
    "# Save to Lookalike.csv\n",
    "lookalike_results = []\n",
    "for customer_id, similar_customers in lookalikes.items():\n",
    "    for sim_cust_id, score in similar_customers:\n",
    "        lookalike_results.append([customer_id, sim_cust_id, score])\n",
    "\n",
    "lookalike_df = pd.DataFrame(lookalike_results, columns=['CustomerID', 'SimilarCustomerID', 'SimilarityScore'])\n",
    "lookalike_df.to_csv(\"Lookalike.csv\", index=False)\n",
    "lookalike_df.to_csv(r\"Downloads\\Lookalike.csv\", index=False)\n",
    "\n",
    "\n"
   ]
  },
  {
   "cell_type": "code",
   "execution_count": null,
   "id": "de54db2d-9032-42df-9fb4-f559bcfe7d51",
   "metadata": {},
   "outputs": [],
   "source": []
  }
 ],
 "metadata": {
  "kernelspec": {
   "display_name": "Python 3 (ipykernel)",
   "language": "python",
   "name": "python3"
  },
  "language_info": {
   "codemirror_mode": {
    "name": "ipython",
    "version": 3
   },
   "file_extension": ".py",
   "mimetype": "text/x-python",
   "name": "python",
   "nbconvert_exporter": "python",
   "pygments_lexer": "ipython3",
   "version": "3.12.7"
  }
 },
 "nbformat": 4,
 "nbformat_minor": 5
}
